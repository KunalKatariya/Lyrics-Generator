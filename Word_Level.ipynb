{
  "nbformat": 4,
  "nbformat_minor": 0,
  "metadata": {
    "colab": {
      "name": "Word_Level.ipynb",
      "version": "0.3.2",
      "provenance": [],
      "collapsed_sections": [],
      "include_colab_link": true
    },
    "kernelspec": {
      "name": "python3",
      "display_name": "Python 3"
    }
  },
  "cells": [
    {
      "cell_type": "markdown",
      "metadata": {
        "id": "view-in-github",
        "colab_type": "text"
      },
      "source": [
        "<a href=\"https://colab.research.google.com/github/KunalKatariya/Lyrics-Generator/blob/master/Word_Level.ipynb\" target=\"_parent\"><img src=\"https://colab.research.google.com/assets/colab-badge.svg\" alt=\"Open In Colab\"/></a>"
      ]
    },
    {
      "metadata": {
        "id": "QFLcI3akXXRz",
        "colab_type": "code",
        "colab": {}
      },
      "cell_type": "code",
      "source": [
        "!pip install -q keras"
      ],
      "execution_count": 0,
      "outputs": []
    },
    {
      "metadata": {
        "id": "E8BovXWeX3TX",
        "colab_type": "code",
        "colab": {}
      },
      "cell_type": "code",
      "source": [
        "!pip install -q numpy"
      ],
      "execution_count": 0,
      "outputs": []
    },
    {
      "metadata": {
        "id": "1MtUhzzEX7O6",
        "colab_type": "code",
        "colab": {}
      },
      "cell_type": "code",
      "source": [
        "!pip install -q pandas"
      ],
      "execution_count": 0,
      "outputs": []
    },
    {
      "metadata": {
        "id": "GW_Y2OhRX99K",
        "colab_type": "code",
        "outputId": "7f7c45eb-091a-445b-801c-9dc7ae936401",
        "colab": {
          "base_uri": "https://localhost:8080/",
          "height": 34
        }
      },
      "cell_type": "code",
      "source": [
        "import tensorflow as tf\n",
        "tf.test.gpu_device_name()"
      ],
      "execution_count": 4,
      "outputs": [
        {
          "output_type": "execute_result",
          "data": {
            "text/plain": [
              "''"
            ]
          },
          "metadata": {
            "tags": []
          },
          "execution_count": 4
        }
      ]
    },
    {
      "metadata": {
        "id": "n7LNhi2lYKcJ",
        "colab_type": "code",
        "colab": {}
      },
      "cell_type": "code",
      "source": [
        "from __future__ import print_function\n",
        "from keras.callbacks import LambdaCallback\n",
        "from keras.models import Sequential\n",
        "from keras.layers import Dense, Activation\n",
        "from keras.layers import LSTM, Bidirectional\n",
        "from keras.layers import Dropout\n",
        "from keras.optimizers import Adam, RMSprop\n",
        "from keras.utils.data_utils import get_file\n",
        "import numpy as np\n",
        "import pandas as pd\n",
        "import os\n",
        "import sys\n",
        "import io\n",
        "import re\n",
        "import random"
      ],
      "execution_count": 0,
      "outputs": []
    },
    {
      "metadata": {
        "id": "AZPtrRn4ZQrj",
        "colab_type": "code",
        "outputId": "f4301c81-95b2-4dd8-9dad-199477c3624b",
        "colab": {
          "base_uri": "https://localhost:8080/",
          "height": 202
        }
      },
      "cell_type": "code",
      "source": [
        "!wget https://raw.githubusercontent.com/ivan-liljeqvist/ailyrics/master/corpus.txt -P \"/content/drive/My Drive/app\""
      ],
      "execution_count": 6,
      "outputs": [
        {
          "output_type": "stream",
          "text": [
            "--2019-01-06 13:39:20--  https://raw.githubusercontent.com/ivan-liljeqvist/ailyrics/master/corpus.txt\n",
            "Resolving raw.githubusercontent.com (raw.githubusercontent.com)... 151.101.0.133, 151.101.64.133, 151.101.128.133, ...\n",
            "Connecting to raw.githubusercontent.com (raw.githubusercontent.com)|151.101.0.133|:443... connected.\n",
            "HTTP request sent, awaiting response... 200 OK\n",
            "Length: 7709143 (7.4M) [text/plain]\n",
            "Saving to: ‘/content/drive/My Drive/app/corpus.txt.1’\n",
            "\n",
            "\rcorpus.txt.1          0%[                    ]       0  --.-KB/s               \rcorpus.txt.1         24%[===>                ]   1.79M  8.96MB/s               \rcorpus.txt.1         75%[==============>     ]   5.56M  13.9MB/s               \rcorpus.txt.1        100%[===================>]   7.35M  15.8MB/s    in 0.5s    \n",
            "\n",
            "2019-01-06 13:39:21 (15.8 MB/s) - ‘/content/drive/My Drive/app/corpus.txt.1’ saved [7709143/7709143]\n",
            "\n"
          ],
          "name": "stdout"
        }
      ]
    },
    {
      "metadata": {
        "id": "ruu6TGY3ZYkv",
        "colab_type": "code",
        "colab": {}
      },
      "cell_type": "code",
      "source": [
        "df = pd.read_csv(\"/content/drive/My Drive/app/corpus.txt\")"
      ],
      "execution_count": 0,
      "outputs": []
    },
    {
      "metadata": {
        "id": "Qsl_IeEpZkfR",
        "colab_type": "code",
        "outputId": "6a5327c7-6c3c-4fc9-9c73-c2160e529b29",
        "colab": {
          "base_uri": "https://localhost:8080/",
          "height": 50
        }
      },
      "cell_type": "code",
      "source": [
        "with io.open(\"/content/drive/My Drive/app/corpus.txt\", encoding = 'utf-8') as f:\n",
        "  text = f.read().lower().replace('\\n', ' \\n ')\n",
        "print(\"Corpus Length in characters: \", len(text))\n",
        "\n",
        "text_in_words = [w for w in text.split(' ') if w.strip() != '' or w == '\\n']\n",
        "print('Corpus length in words:', len(text_in_words))"
      ],
      "execution_count": 8,
      "outputs": [
        {
          "output_type": "stream",
          "text": [
            "Corpus Length in characters:  7719341\n",
            "Corpus length in words: 1608123\n"
          ],
          "name": "stdout"
        }
      ]
    },
    {
      "metadata": {
        "id": "UAqb8otyZ-8F",
        "colab_type": "code",
        "outputId": "8d3e285f-fa44-45f5-89be-c1cd90547f4d",
        "colab": {
          "base_uri": "https://localhost:8080/",
          "height": 67
        }
      },
      "cell_type": "code",
      "source": [
        "#Calculating frequency of words\n",
        "MIN_WORD_FREQUENCY = 10\n",
        "word_freq = {}\n",
        "for word in text_in_words:\n",
        "  word_freq[word] = word_freq.get(word, 0) + 1\n",
        "  \n",
        "ignored_word = set()\n",
        "for k, v in word_freq.items():\n",
        "  if word_freq[k] < MIN_WORD_FREQUENCY:\n",
        "    ignored_word.add(k)\n",
        "\n",
        "words = set(text_in_words)\n",
        "print(\"Unique words before ignoring:\", len(words))\n",
        "print(\"Ignoring words with frequency <\", MIN_WORD_FREQUENCY)\n",
        "words = sorted(set(words) - ignored_word)\n",
        "print(\"Unique words after ignoring:\", len(words))"
      ],
      "execution_count": 9,
      "outputs": [
        {
          "output_type": "stream",
          "text": [
            "Unique words before ignoring: 42129\n",
            "Ignoring words with frequency < 10\n",
            "Unique words after ignoring: 5536\n"
          ],
          "name": "stdout"
        }
      ]
    },
    {
      "metadata": {
        "id": "ylvNlJzgeYsl",
        "colab_type": "code",
        "colab": {}
      },
      "cell_type": "code",
      "source": [
        "word_indices = dict((c, i) for i, c in enumerate(words))\n",
        "indices_word = dict((i, c) for i, c in enumerate(words))"
      ],
      "execution_count": 0,
      "outputs": []
    },
    {
      "metadata": {
        "id": "LC0b5dgNfHNu",
        "colab_type": "code",
        "colab": {}
      },
      "cell_type": "code",
      "source": [
        "step = 1\n",
        "sequence_len = 10\n",
        "sentences = []\n",
        "next_words = []\n",
        "ignored = 0"
      ],
      "execution_count": 0,
      "outputs": []
    },
    {
      "metadata": {
        "id": "bpyhJF1nhiG8",
        "colab_type": "code",
        "outputId": "4fe6c042-7be9-479b-dd84-48beb39cb22b",
        "colab": {
          "base_uri": "https://localhost:8080/",
          "height": 50
        }
      },
      "cell_type": "code",
      "source": [
        "for i in range(0, len(text_in_words) - sequence_len, step):\n",
        "  # Only add the sequences where no word is in ignored_words\n",
        "  if len(set(text_in_words[i: i+sequence_len+1]).intersection(ignored_word)) == 0:\n",
        "    sentences.append(text_in_words[i: i + sequence_len])\n",
        "    next_words.append(text_in_words[i + sequence_len])\n",
        "  else:\n",
        "    ignored = ignored + 1\n",
        "print('Ignored sequences:', ignored)\n",
        "print('Remaining sequences:', len(sentences))"
      ],
      "execution_count": 12,
      "outputs": [
        {
          "output_type": "stream",
          "text": [
            "Ignored sequences: 586279\n",
            "Remaining sequences: 1021834\n"
          ],
          "name": "stdout"
        }
      ]
    },
    {
      "metadata": {
        "id": "DQUFJZpri4El",
        "colab_type": "code",
        "outputId": "1661caa2-188b-44ae-e982-80234d3a7b08",
        "colab": {
          "base_uri": "https://localhost:8080/",
          "height": 67
        }
      },
      "cell_type": "code",
      "source": [
        "print('Shuffling sentences')\n",
        "\n",
        "tmp_sentences = []\n",
        "tmp_next_word = []\n",
        "for i in np.random.permutation(len(sentences)):\n",
        "  tmp_sentences.append(sentences[i])\n",
        "  tmp_next_word.append(next_words[i])\n",
        "\n",
        "cut_index = int(len(sentences) * (1.-(2/100.)))\n",
        "x_train, x_test = tmp_sentences[:cut_index], tmp_sentences[cut_index:]\n",
        "y_train, y_test = tmp_next_word[:cut_index], tmp_next_word[cut_index:]\n",
        "\n",
        "print(\"Size of training set = %d\" % len(x_train))\n",
        "print(\"Size of test set = %d\" % len(y_test))"
      ],
      "execution_count": 13,
      "outputs": [
        {
          "output_type": "stream",
          "text": [
            "Shuffling sentences\n",
            "Size of training set = 1001397\n",
            "Size of test set = 20437\n"
          ],
          "name": "stdout"
        }
      ]
    },
    {
      "metadata": {
        "id": "IalOaD7Nmn-d",
        "colab_type": "code",
        "colab": {
          "base_uri": "https://localhost:8080/",
          "height": 34
        },
        "outputId": "2ec8209f-ee95-49e0-e086-99c6d036364b"
      },
      "cell_type": "code",
      "source": [
        "print(\"Building model...\")\n",
        "model = Sequential()\n",
        "model.add(Bidirectional(LSTM(128), input_shape=(sequence_len, len(words))))\n",
        "model.add(Dropout(0.2))\n",
        "model.add(Dense(len(words)))\n",
        "model.add(Activation('softmax'))"
      ],
      "execution_count": 21,
      "outputs": [
        {
          "output_type": "stream",
          "text": [
            "Building model...\n"
          ],
          "name": "stdout"
        }
      ]
    },
    {
      "metadata": {
        "id": "Ax1_L6V1nKZZ",
        "colab_type": "code",
        "colab": {}
      },
      "cell_type": "code",
      "source": [
        "model.compile(loss = 'categorical_crossentropy', optimizer = 'adam', metrics=['accuracy'])"
      ],
      "execution_count": 0,
      "outputs": []
    },
    {
      "metadata": {
        "id": "cqgM86YGa7IZ",
        "colab_type": "code",
        "colab": {
          "base_uri": "https://localhost:8080/",
          "height": 269
        },
        "outputId": "981053f5-933d-4996-ec2d-380f93f929d7"
      },
      "cell_type": "code",
      "source": [
        "model.summary()"
      ],
      "execution_count": 25,
      "outputs": [
        {
          "output_type": "stream",
          "text": [
            "_________________________________________________________________\n",
            "Layer (type)                 Output Shape              Param #   \n",
            "=================================================================\n",
            "bidirectional_2 (Bidirection (None, 256)               5800960   \n",
            "_________________________________________________________________\n",
            "dropout_2 (Dropout)          (None, 256)               0         \n",
            "_________________________________________________________________\n",
            "dense_2 (Dense)              (None, 5536)              1422752   \n",
            "_________________________________________________________________\n",
            "activation_2 (Activation)    (None, 5536)              0         \n",
            "=================================================================\n",
            "Total params: 7,223,712\n",
            "Trainable params: 7,223,712\n",
            "Non-trainable params: 0\n",
            "_________________________________________________________________\n"
          ],
          "name": "stdout"
        }
      ]
    },
    {
      "metadata": {
        "id": "fVnWRGGha_1R",
        "colab_type": "code",
        "colab": {}
      },
      "cell_type": "code",
      "source": [
        "#Data generator for fit and evaluate\n",
        "def generator(sentence_list, next_word_list, batch_size):\n",
        "  index = 0\n",
        "  while True:\n",
        "    x = np.zeros((barch_size, sequence_len, len(words)), dtype = np.bool)\n",
        "    y = np.zeros((batch_size, len(words)), dtype = np.bool)\n",
        "    for i in range(batch_size):\n",
        "      for t, w in enumerate(sentence_list[index % len(sentence_list)]):\n",
        "        x[i, t, word_indices[w]] = 1\n",
        "      y[i, word_indices[next_word_list[index % len(sentence_list)]]] = 1\n",
        "      index = index + 1\n",
        "    yield x, y"
      ],
      "execution_count": 0,
      "outputs": []
    },
    {
      "metadata": {
        "id": "Zs3x_juLdSm0",
        "colab_type": "code",
        "colab": {}
      },
      "cell_type": "code",
      "source": [
        "def sample(preds, temperature = 1.0):\n",
        "  "
      ],
      "execution_count": 0,
      "outputs": []
    }
  ]
}